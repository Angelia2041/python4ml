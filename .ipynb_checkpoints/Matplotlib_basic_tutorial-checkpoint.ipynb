{
 "cells": [
  {
   "cell_type": "markdown",
   "metadata": {},
   "source": [
    "## The Five-Thousand Pound Graphics Gorilla (i.e., Matplotlib)"
   ]
  },
  {
   "cell_type": "markdown",
   "metadata": {},
   "source": [
    "Matplotlib is a complex, massive library that gives you incredible control over designing and customizing both static and interactive data visualizations, as well as a suite of tools for data preprocessing and wrangling into graphical format. Let's dive in with this basic tutorial."
   ]
  },
  {
   "cell_type": "markdown",
   "metadata": {},
   "source": [
    "Basically, in mpl, you have 2 ways of getting sh\\*t done:\n",
    "1. The scripting layer, which handles much of the backend for you.\n",
    "2. The object layer, which is where the real power hides.\n",
    "The thing is, for even trivial tasks like making a barchart, an understanding of the underlying objects is required if you want to do more than simply have a couple of bars.\n",
    "\n",
    "The scripting layer is wrapped up in the pyplot module, and it allows you to make quick and easy plots."
   ]
  },
  {
   "cell_type": "code",
   "execution_count": 57,
   "metadata": {},
   "outputs": [
    {
     "data": {
      "text/plain": [
       "[<matplotlib.lines.Line2D at 0x7fec9c6b60f0>]"
      ]
     },
     "execution_count": 57,
     "metadata": {},
     "output_type": "execute_result"
    }
   ],
   "source": [
    "from matplotlib import pyplot as plt\n",
    "\n",
    "plt.plot([1,2,3], [3,2,1], 'r.')"
   ]
  },
  {
   "cell_type": "markdown",
   "metadata": {},
   "source": [
    "Wait, what gives? Where's our plot? Oh, right. We have to \"show\" it."
   ]
  },
  {
   "cell_type": "code",
   "execution_count": 59,
   "metadata": {},
   "outputs": [],
   "source": [
    "plt.show()"
   ]
  },
  {
   "cell_type": "markdown",
   "metadata": {},
   "source": [
    "There's the bastard. Try rerunning the cell to show the plot again....what happened? Where did the plot go? \n",
    "\n",
    "In the scripting layer, plots get cleared once they've been shown. It's kind of an annoying but useful feature, since you may indeed want to make more than one plot in the same notebook or .py file.\n",
    "\n",
    "So, to bring it back, rerun the cell where we define it, and show it again.\n",
    "\n",
    "\n",
    "\n",
    "Also, did you notice the \"matplotlib.lines.Line2D\" output? That's the plot object type, a Lines.Line2D object. Hmmm. Well, then, what exactly are our littles dots represented by? How to find out?"
   ]
  },
  {
   "cell_type": "code",
   "execution_count": 53,
   "metadata": {},
   "outputs": [
    {
     "data": {
      "text/plain": [
       "<matplotlib.axes._subplots.AxesSubplot at 0x7fec9c38a160>"
      ]
     },
     "execution_count": 53,
     "metadata": {},
     "output_type": "execute_result"
    }
   ],
   "source": [
    "plt.plot([1,2,3], [3,2,1], 'r.')\n",
    "plt.gca() #gca means, 'get child axes'"
   ]
  },
  {
   "cell_type": "markdown",
   "metadata": {},
   "source": [
    "Okay...what's an axes? Well, it's a bit theoretical (see Grammar of Graphics), but in practice, an axes object is a container for all the numerical stuff in a visual--the obvious x-axis, y-axis, but also some other things, such as:"
   ]
  },
  {
   "cell_type": "code",
   "execution_count": 54,
   "metadata": {},
   "outputs": [
    {
     "data": {
      "text/plain": [
       "[<matplotlib.lines.Line2D at 0x7fec9c3741d0>,\n",
       " <matplotlib.spines.Spine at 0x7fec9c7d9550>,\n",
       " <matplotlib.spines.Spine at 0x7fec9c486f60>,\n",
       " <matplotlib.spines.Spine at 0x7fec9c7e2a20>,\n",
       " <matplotlib.spines.Spine at 0x7fec9c49b048>,\n",
       " <matplotlib.axis.XAxis at 0x7fec9c49b208>,\n",
       " <matplotlib.axis.YAxis at 0x7fec9c47af60>,\n",
       " Text(0.5,1,''),\n",
       " Text(0,1,''),\n",
       " Text(1,1,''),\n",
       " <matplotlib.patches.Rectangle at 0x7fec9c393390>]"
      ]
     },
     "execution_count": 54,
     "metadata": {},
     "output_type": "execute_result"
    }
   ],
   "source": [
    "plt.gca().get_children()"
   ]
  },
  {
   "cell_type": "markdown",
   "metadata": {},
   "source": [
    "So, we have text, and we are given the positioning within the plot. \n",
    "We have spines, which are the four boundaries of the graph. \n",
    "We have the XAxis and YAxis as objects within the axes container.\n",
    "We have a \"patches.Rectangle\" object, which is what it sounds like (the rectangular chart).\n",
    "And our Line2D object, which is actually the container for our data points."
   ]
  },
  {
   "cell_type": "code",
   "execution_count": 55,
   "metadata": {},
   "outputs": [
    {
     "data": {
      "text/plain": [
       "array([1, 2, 3])"
      ]
     },
     "execution_count": 55,
     "metadata": {},
     "output_type": "execute_result"
    }
   ],
   "source": [
    "line2d = plt.gca().get_children()[0]\n",
    "line2d.get_xdata()"
   ]
  },
  {
   "cell_type": "markdown",
   "metadata": {},
   "source": [
    "Also, let's do something about those unseemly \"spines\" in the graph."
   ]
  },
  {
   "cell_type": "code",
   "execution_count": 56,
   "metadata": {},
   "outputs": [
    {
     "data": {
      "image/png": "[encoded data removed]",
      "text/plain": [
       "<matplotlib.figure.Figure at 0x7fec9c39ff60>"
      ]
     },
     "metadata": {},
     "output_type": "display_data"
    }
   ],
   "source": [
    "spines = plt.gca().get_children()[3:5]\n",
    "for spine in spines:\n",
    "    spine.set_alpha(0)\n",
    "plt.show()"
   ]
  },
  {
   "cell_type": "markdown",
   "metadata": {},
   "source": [
    "Setting the alpha to zero essentially hides the spine, and we only did this for 2 of them, corresponding to positions 3 and 4 in the list of children in our axes object."
   ]
  }
 ],
 "metadata": {
  "kernelspec": {
   "display_name": "Python 3",
   "language": "python",
   "name": "python3"
  },
  "language_info": {
   "codemirror_mode": {
    "name": "ipython",
    "version": 3
   },
   "file_extension": ".py",
   "mimetype": "text/x-python",
   "name": "python",
   "nbconvert_exporter": "python",
   "pygments_lexer": "ipython3",
   "version": "3.6.3"
  }
 },
 "nbformat": 4,
 "nbformat_minor": 2
}
